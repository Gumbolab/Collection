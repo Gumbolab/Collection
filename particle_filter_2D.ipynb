{
 "cells": [
  {
   "cell_type": "code",
   "execution_count": 2,
   "metadata": {},
   "outputs": [],
   "source": [
    "import scipy.io\n",
    "import scipy.stats\n",
    "import math\n",
    "mat = scipy.io.loadmat('E:/data/2Dparticle.mat')\n"
   ]
  },
  {
   "cell_type": "code",
   "execution_count": 245,
   "metadata": {
    "scrolled": true
   },
   "outputs": [
    {
     "name": "stdout",
     "output_type": "stream",
     "text": [
      "[ 2.72704234e-04  8.18091935e-04  1.63612157e-03  2.72673084e-03\n",
      "  4.08983670e-03  5.72533533e-03  7.63310219e-03  9.81299199e-03\n",
      "  1.22648387e-02  1.49884557e-02  1.79836355e-02  2.12501499e-02\n",
      "  2.47877504e-02  2.85961674e-02  3.26751109e-02  3.70242703e-02\n",
      "  4.16433144e-02  4.65318914e-02  5.16896291e-02  5.71161346e-02\n",
      "  6.28109948e-02  6.87737759e-02  7.50040239e-02  8.15012642e-02\n",
      "  8.82650021e-02  9.52947226e-02  1.02589890e-01  1.10149949e-01\n",
      "  1.17974325e-01  1.26062420e-01  1.34413619e-01  1.43027286e-01\n",
      "  1.51902766e-01  1.61039382e-01  1.70436438e-01  1.80093219e-01\n",
      "  1.90008989e-01  2.00182994e-01  2.10614459e-01  2.21302588e-01\n",
      "  2.32246569e-01  2.43445567e-01  2.54898731e-01  2.66605187e-01\n",
      "  2.78564044e-01  2.90774392e-01  3.03235300e-01  3.15945820e-01\n",
      "  3.28904984e-01  3.42111805e-01  3.55565276e-01  3.69264375e-01\n",
      "  3.83208056e-01  3.97395260e-01  4.11824904e-01  4.26495890e-01\n",
      "  4.41407101e-01  4.56557402e-01  4.71945638e-01  4.87570638e-01\n",
      "  5.03195638e-01  5.18820638e-01  5.34445638e-01  5.49990470e-01\n",
      "  5.65298138e-01  5.80367478e-01  5.95197341e-01  6.09786598e-01\n",
      "  6.24134138e-01  6.38238869e-01  6.52099715e-01  6.65715623e-01\n",
      "  6.79085555e-01  6.92208492e-01  7.05083435e-01  7.17709405e-01\n",
      "  7.30085438e-01  7.42210594e-01  7.54083948e-01  7.65704596e-01\n",
      "  7.77071654e-01  7.88184255e-01  7.99041554e-01  8.09642723e-01\n",
      "  8.19986955e-01  8.30073463e-01  8.39901479e-01  8.49470253e-01\n",
      "  8.58779057e-01  8.67827183e-01  8.76613941e-01  8.85138662e-01\n",
      "  8.93400698e-01  9.01399418e-01  9.09134213e-01  9.16604495e-01\n",
      "  9.23809695e-01  9.30749264e-01  9.37422673e-01  9.43829415e-01\n",
      "  9.49969001e-01  9.55840964e-01  9.61444857e-01  9.66780252e-01\n",
      "  9.71846744e-01  9.76643947e-01  9.81171496e-01  9.85429045e-01\n",
      "  9.89416271e-01  9.93132869e-01  9.96578557e-01  9.99753073e-01\n",
      "  1.00265617e+00  1.00528764e+00  1.00764727e+00  1.00973488e+00\n",
      "  1.01155032e+00  1.01309345e+00  1.01436415e+00  1.01536232e+00\n",
      "  1.01608788e+00  1.01654079e+00  1.01672101e+00  1.01662851e+00\n",
      "  1.01626332e+00  1.01578223e+00  1.01531617e+00  1.01486468e+00\n",
      "  1.01442729e+00  1.01400357e+00  1.01359309e+00  1.01319543e+00\n",
      "  1.01281021e+00  1.01243701e+00  1.01207549e+00  1.01172525e+00\n",
      "  1.01138596e+00  1.01105728e+00  1.01073886e+00  1.01043040e+00\n",
      "  1.01013157e+00  1.00984208e+00  1.00956164e+00  1.00928996e+00\n",
      "  1.00902677e+00  1.00877181e+00  1.00852481e+00  1.00828553e+00\n",
      "  1.00805373e+00  1.00782917e+00  1.00761163e+00  1.00740089e+00\n",
      "  1.00719673e+00  1.00699895e+00  1.00680736e+00  1.00662175e+00\n",
      "  1.00644194e+00  1.00626775e+00  1.00609900e+00  1.00593552e+00\n",
      "  1.00577716e+00  1.00562374e+00  1.00547512e+00  1.00533114e+00\n",
      "  1.00519166e+00  1.00505654e+00  1.00492565e+00  1.00479884e+00\n",
      "  1.00467599e+00  1.00455699e+00  1.00444170e+00  1.00433002e+00\n",
      "  1.00422182e+00  1.00411701e+00  1.00401547e+00  1.00391711e+00\n",
      "  1.00382182e+00  1.00372951e+00  1.00364008e+00  1.00355345e+00\n",
      "  1.00373952e+00  1.00419828e+00  1.00492971e+00  1.00593373e+00\n",
      "  1.00721028e+00  1.00875926e+00  1.01058055e+00  1.01267401e+00\n",
      "  1.01503948e+00  1.01767678e+00  1.02058571e+00  1.02376606e+00\n",
      "  1.02721757e+00  1.03093998e+00  1.03493302e+00  1.03919637e+00\n",
      "  1.04372971e+00  1.04853271e+00  1.05360498e+00  1.05894615e+00\n",
      "  1.06455580e+00  1.07043352e+00  1.07657885e+00  1.08299132e+00\n",
      "  1.08967046e+00  1.09661574e+00  1.10382664e+00  1.11130261e+00\n",
      "  1.11904308e+00  1.12704746e+00  1.13531514e+00  1.14384550e+00\n",
      "  1.15263788e+00  1.16169161e+00  1.17100601e+00  1.18058036e+00\n",
      "  1.19041394e+00  1.20050599e+00  1.21085575e+00  1.22146243e+00\n",
      "  1.23232522e+00  1.24344330e+00  1.25481581e+00  1.26644190e+00\n",
      "  1.27832067e+00  1.29045122e+00  1.30283264e+00  1.31546396e+00\n",
      "  1.32834425e+00  1.34147250e+00  1.35484773e+00  1.36846891e+00\n",
      "  1.38233500e+00  1.39644496e+00  1.41079770e+00  1.42539214e+00\n",
      "  1.44022716e+00  1.45530163e+00  1.47061441e+00  1.48616432e+00\n",
      "  1.50178932e+00  1.51741432e+00  1.53303932e+00  1.54866432e+00\n",
      "  1.56428932e+00  1.57991432e+00  1.59553932e+00  1.61116432e+00\n",
      "  1.62678932e+00  1.64241432e+00  1.65803932e+00  1.67366432e+00\n",
      "  1.68928932e+00  1.70491432e+00  1.72053932e+00  1.73616432e+00\n",
      "  1.75178932e+00  1.76741432e+00  1.78303932e+00  1.79866432e+00\n",
      "  1.81428932e+00  1.82982002e+00  1.84511348e+00  1.86016855e+00\n",
      "  1.87498407e+00  1.88955892e+00  1.90389199e+00  1.91798218e+00\n",
      "  1.93182843e+00  1.94542967e+00  1.95878488e+00  1.97189303e+00\n",
      "  1.98475313e+00  1.99736420e+00  2.00972527e+00  2.02183542e+00\n",
      "  2.03369370e+00  2.04529923e+00  2.05665111e+00  2.06774848e+00\n",
      "  2.07859051e+00  2.08917635e+00  2.09950521e+00  2.10957630e+00\n",
      "  2.11938885e+00  2.12894212e+00  2.13823537e+00  2.14726790e+00\n",
      "  2.15603903e+00  2.16454808e+00  2.17279440e+00  2.18077737e+00\n",
      "  2.18849639e+00  2.19595085e+00  2.20314020e+00  2.21006389e+00\n",
      "  2.21672138e+00  2.22311218e+00  2.22923579e+00  2.23509175e+00\n",
      "  2.24067962e+00  2.24599897e+00  2.25104938e+00  2.25583049e+00\n",
      "  2.26034192e+00  2.26458333e+00  2.26855440e+00  2.27225483e+00\n",
      "  2.27568432e+00  2.27884263e+00  2.28172951e+00  2.28434475e+00\n",
      "  2.28668814e+00  2.28875950e+00  2.29055867e+00  2.29208553e+00\n",
      "  2.29333995e+00  2.29432184e+00  2.29503112e+00  2.29546774e+00\n",
      "  2.29563167e+00  2.29552289e+00  2.29514141e+00  2.29455879e+00\n",
      "  2.29399437e+00  2.29344759e+00  2.29291789e+00  2.29240474e+00\n",
      "  2.29190763e+00  2.29142605e+00  2.29095952e+00  2.29050756e+00\n",
      "  2.29006973e+00  2.28964558e+00  2.28923468e+00  2.28883662e+00\n",
      "  2.28845100e+00  2.28807743e+00  2.28771553e+00  2.28736494e+00\n",
      "  2.28702531e+00  2.28669629e+00  2.28637755e+00  2.28606877e+00\n",
      "  2.28576964e+00  2.28547985e+00  2.28519913e+00  2.28492717e+00\n",
      "  2.28466371e+00  2.28440849e+00  2.28416124e+00  2.28392172e+00\n",
      "  2.28368968e+00  2.28346489e+00  2.28324713e+00  2.28303618e+00\n",
      "  2.28283181e+00  2.28263383e+00  2.28244204e+00  2.28225624e+00\n",
      "  2.28207625e+00  2.28190188e+00  2.28173296e+00  2.28156932e+00\n",
      "  2.28141079e+00  2.28125722e+00  2.28110845e+00  2.28096432e+00\n",
      "  2.28082470e+00  2.28068945e+00  2.28055841e+00  2.28043148e+00\n",
      "  2.28030851e+00  2.28018938e+00  2.28034296e+00  2.28076924e+00\n",
      "  2.28146818e+00  2.28243972e+00  2.28368381e+00  2.28520033e+00\n",
      "  2.28698918e+00  2.28905021e+00  2.29138328e+00  2.29398821e+00\n",
      "  2.29686479e+00  2.30001280e+00  2.30343202e+00  2.30712217e+00\n",
      "  2.31108298e+00  2.31531414e+00  2.31981533e+00  2.32458621e+00\n",
      "  2.32962642e+00  2.33493557e+00  2.34051325e+00  2.34635905e+00\n",
      "  2.35247252e+00  2.35885319e+00  2.36550058e+00  2.37241417e+00\n",
      "  2.37959345e+00  2.38703787e+00  2.39474685e+00  2.40271982e+00\n",
      "  2.41095617e+00  2.41945526e+00  2.42821645e+00  2.43723908e+00\n",
      "  2.44652246e+00  2.45606587e+00  2.46586860e+00  2.47592989e+00\n",
      "  2.48624899e+00  2.49682510e+00  2.50765742e+00  2.51874512e+00\n",
      "  2.53008736e+00  2.54168328e+00  2.55353199e+00  2.56563260e+00\n",
      "  2.57798417e+00  2.59058577e+00  2.60343644e+00  2.61653520e+00\n",
      "  2.62988105e+00  2.64347298e+00  2.65730995e+00  2.67139090e+00\n",
      "  2.68571478e+00  2.70028047e+00  2.71508689e+00  2.73013289e+00\n",
      "  2.74541733e+00  2.76093905e+00  2.77656405e+00  2.79218905e+00\n",
      "  2.80781405e+00  2.82343905e+00  2.83906405e+00  2.85468905e+00\n",
      "  2.87031405e+00  2.88593905e+00  2.90156405e+00  2.91718905e+00\n",
      "  2.93281405e+00  2.94843905e+00  2.96406405e+00  2.97968905e+00\n",
      "  2.99531405e+00  3.01093905e+00  3.02656405e+00  3.04218905e+00\n",
      "  3.05781405e+00  3.07343905e+00  3.08906405e+00  3.10468905e+00\n",
      "  3.12031405e+00  3.13593905e+00 -3.13162126e+00 -3.11599626e+00\n",
      " -3.10037126e+00 -3.08498302e+00 -3.06983272e+00 -3.05492151e+00\n",
      " -3.04025053e+00 -3.02582088e+00 -3.01163368e+00 -2.99769000e+00\n",
      " -2.98399090e+00 -2.97053743e+00 -2.95733061e+00 -2.94437144e+00\n",
      " -2.93166092e+00 -2.91920001e+00 -2.90698967e+00 -2.89503081e+00\n",
      " -2.88332435e+00 -2.87187119e+00 -2.86067219e+00 -2.84972821e+00\n",
      " -2.83904008e+00 -2.82860862e+00 -2.81843461e+00 -2.80851884e+00\n",
      " -2.79886206e+00 -2.78946500e+00 -2.78032839e+00 -2.77145291e+00\n",
      " -2.76283924e+00 -2.75448804e+00 -2.74639995e+00 -2.73857557e+00\n",
      " -2.73101551e+00 -2.72372034e+00 -2.71669062e+00 -2.70992689e+00\n",
      " -2.70342965e+00 -2.69719940e+00 -2.69123662e+00 -2.68554176e+00\n",
      " -2.68011525e+00 -2.67495751e+00 -2.67006894e+00 -2.66544989e+00\n",
      " -2.66110073e+00 -2.65702179e+00 -2.65321337e+00 -2.64967577e+00\n",
      " -2.64640926e+00 -2.64341408e+00 -2.64069046e+00 -2.63823861e+00\n",
      " -2.63605872e+00 -2.63415096e+00 -2.63251546e+00 -2.63115235e+00\n",
      " -2.63006174e+00 -2.62924371e+00 -2.62869833e+00 -2.62835516e+00\n",
      " -2.62802271e+00 -2.62770066e+00 -2.62738866e+00 -2.62708642e+00\n",
      " -2.62679362e+00 -2.62650997e+00 -2.62623519e+00 -2.62596899e+00\n",
      " -2.62571111e+00 -2.62546129e+00 -2.62521927e+00 -2.62498482e+00\n",
      " -2.62475770e+00 -2.62453767e+00 -2.62432451e+00 -2.62411802e+00\n",
      " -2.62391798e+00 -2.62372420e+00 -2.62353646e+00 -2.62335460e+00\n",
      " -2.62317842e+00 -2.62300774e+00 -2.62284240e+00 -2.62268222e+00\n",
      " -2.62252705e+00 -2.62237673e+00 -2.62223110e+00 -2.62209003e+00\n",
      " -2.62195336e+00 -2.62182097e+00 -2.62169271e+00 -2.62156846e+00\n",
      " -2.62144810e+00 -2.62133149e+00 -2.62121853e+00 -2.62110910e+00\n",
      " -2.62100309e+00 -2.62090039e+00 -2.62080090e+00 -2.62070452e+00\n",
      " -2.62061115e+00 -2.62052070e+00 -2.62043308e+00 -2.62034819e+00\n",
      " -2.62026596e+00 -2.62018630e+00 -2.62010912e+00 -2.62003436e+00\n",
      " -2.61996193e+00 -2.61989177e+00 -2.61982380e+00 -2.61975796e+00\n",
      " -2.61969417e+00 -2.61963237e+00 -2.61957251e+00 -2.61951452e+00\n",
      " -2.61945833e+00 -2.61940391e+00 -2.61935119e+00 -2.61930011e+00\n",
      " -2.61925063e+00 -2.61920269e+00 -2.61915626e+00 -2.61911127e+00\n",
      " -2.61906769e+00 -2.61902548e+00 -2.61898458e+00 -2.61894496e+00\n",
      " -2.61890657e+00 -2.61886939e+00 -2.61883337e+00 -2.61879848e+00\n",
      " -2.61876467e+00 -2.61873192e+00 -2.61870020e+00 -2.61866947e+00\n",
      " -2.61863969e+00 -2.61861085e+00 -2.61858291e+00 -2.61855584e+00\n",
      " -2.61852962e+00 -2.61850422e+00 -2.61847961e+00 -2.61845577e+00\n",
      " -2.61843267e+00 -2.61841030e+00 -2.61838862e+00 -2.61836763e+00\n",
      " -2.61834729e+00 -2.61832758e+00 -2.61830849e+00 -2.61829000e+00\n",
      " -2.61827209e+00 -2.61825473e+00 -2.61823792e+00 -2.61822163e+00\n",
      " -2.61820585e+00 -2.61819057e+00 -2.61817576e+00 -2.61816142e+00\n",
      " -2.61814752e+00 -2.61813406e+00 -2.61812102e+00 -2.61810838e+00\n",
      " -2.61809575e+00]\n"
     ]
    }
   ],
   "source": [
    "print(mat['XTRUE'][2])\n"
   ]
  },
  {
   "cell_type": "code",
   "execution_count": 246,
   "metadata": {},
   "outputs": [
    {
     "name": "stdout",
     "output_type": "stream",
     "text": [
      "[[nan nan]\n",
      " [nan nan]\n",
      " [nan nan]\n",
      " [nan nan]\n",
      " [nan nan]]\n"
     ]
    }
   ],
   "source": [
    "print(mat['Z'].T[100].T[0:2].T)\n",
    "\n"
   ]
  },
  {
   "cell_type": "code",
   "execution_count": 247,
   "metadata": {},
   "outputs": [],
   "source": [
    "import numpy as np"
   ]
  },
  {
   "cell_type": "code",
   "execution_count": 248,
   "metadata": {},
   "outputs": [
    {
     "data": {
      "text/plain": [
       "[<matplotlib.lines.Line2D at 0x1f6b1377d30>]"
      ]
     },
     "execution_count": 248,
     "metadata": {},
     "output_type": "execute_result"
    },
    {
     "data": {
      "image/png": "[encoded data removed]",
      "text/plain": [
       "<Figure size 432x288 with 1 Axes>"
      ]
     },
     "metadata": {
      "needs_background": "light"
     },
     "output_type": "display_data"
    }
   ],
   "source": [
    "lm=mat['lm']\n",
    "xodo=mat['XODO']\n",
    "import matplotlib.pyplot as plt\n",
    "plt.plot(lm[0],lm[1],'ro')\n",
    "xtrue=mat['XTRUE']\n",
    "plt.plot(xtrue[0],xtrue[1])\n",
    "plt.plot(xodo[0],xodo[1],color='black')"
   ]
  },
  {
   "cell_type": "code",
   "execution_count": 249,
   "metadata": {},
   "outputs": [],
   "source": [
    "### tạo particle \n",
    "def particle(vtrue,delta_v,gtrue,delta_g,x0,y0,gamma,N):\n",
    "    v=np.random.normal(vtrue,delta_v,N)\n",
    "    g=np.random.normal(gtrue,delta_g,N)\n",
    "    x=x0+v*0.025*np.cos(g)\n",
    "    y=y0+v*0.025*np.sin(g)\n",
    "    gamma=gamma+g\n",
    "    return x,y,gamma"
   ]
  },
  {
   "cell_type": "code",
   "execution_count": 250,
   "metadata": {},
   "outputs": [],
   "source": [
    "def tinhkhoangcach(particle,measu_3,lm):\n",
    "    mean = np.zeros((5,2))\n",
    "    for i in range(5):\n",
    "        if math.isnan(measu_3[i]):\n",
    "            return mean\n",
    "        else:\n",
    "            zx = particle[0]-lm[(measu_3[i]-1).astype(int)][0]\n",
    "            zy = particle[1]-lm[(measu_3[i]-1).astype(int)][1]\n",
    "            z = np.sqrt(zx*zx+zy*zy)\n",
    "            alpha = np.arctan(zy/zx)\n",
    "            if zy > 0 and zx < 0:\n",
    "                alpha = 180+alpha\n",
    "            if zy < 0 and zx < 0:\n",
    "                alpha = alpha - 180\n",
    "            beering = alpha - particle[2]\n",
    "            mean[i] = (z,beering)\n",
    "    return mean\n",
    "            \n",
    "        \n",
    "        \n",
    "def weight(mean,dolech, measu_12):\n",
    "    ### mean array 3 so\n",
    "    ##do lech too\n",
    "    sum_w = 0\n",
    "    so_landmark = 0\n",
    "    for i in range(5):\n",
    "        so_landmark = i+1\n",
    "        if math.isnan(measu_12[i][0]):\n",
    "            if i == 0:\n",
    "                return 1\n",
    "            else:\n",
    "                break\n",
    "        else:\n",
    "            sum_w += scipy.stats.norm.pdf((measu_12[i][0]-0.1,measu_12[i][0]+0.1),mean[i][0],dolech[0])\n",
    "            sum_w += scipy.stats.norm.pdf((measu_12[i][1]-0.01,measu_12[i][1]+0.01),mean[i][1],dolech[1])\n",
    "    return sum_w/so_landmark"
   ]
  },
  {
   "cell_type": "code",
   "execution_count": 251,
   "metadata": {},
   "outputs": [
    {
     "ename": "ValueError",
     "evalue": "probabilities do not sum to 1",
     "output_type": "error",
     "traceback": [
      "\u001b[1;31m---------------------------------------------------------------------------\u001b[0m",
      "\u001b[1;31mValueError\u001b[0m                                Traceback (most recent call last)",
      "\u001b[1;32m<ipython-input-251-f09dc535a094>\u001b[0m in \u001b[0;36m<module>\u001b[1;34m\u001b[0m\n\u001b[0;32m     32\u001b[0m     \u001b[1;32mfor\u001b[0m \u001b[0mj\u001b[0m \u001b[1;32min\u001b[0m \u001b[0mrange\u001b[0m\u001b[1;33m(\u001b[0m\u001b[0mM\u001b[0m\u001b[1;33m)\u001b[0m\u001b[1;33m:\u001b[0m\u001b[1;33m\u001b[0m\u001b[1;33m\u001b[0m\u001b[0m\n\u001b[0;32m     33\u001b[0m         \u001b[0mid\u001b[0m\u001b[1;33m[\u001b[0m\u001b[0mj\u001b[0m\u001b[1;33m]\u001b[0m \u001b[1;33m=\u001b[0m \u001b[0mj\u001b[0m\u001b[1;33m\u001b[0m\u001b[1;33m\u001b[0m\u001b[0m\n\u001b[1;32m---> 34\u001b[1;33m     \u001b[0mid\u001b[0m \u001b[1;33m=\u001b[0m \u001b[0mnp\u001b[0m\u001b[1;33m.\u001b[0m\u001b[0mrandom\u001b[0m\u001b[1;33m.\u001b[0m\u001b[0mchoice\u001b[0m\u001b[1;33m(\u001b[0m\u001b[0mid\u001b[0m\u001b[1;33m,\u001b[0m \u001b[0mM\u001b[0m\u001b[1;33m,\u001b[0m \u001b[0mp\u001b[0m\u001b[1;33m=\u001b[0m\u001b[0mw\u001b[0m\u001b[1;33m)\u001b[0m\u001b[1;33m\u001b[0m\u001b[1;33m\u001b[0m\u001b[0m\n\u001b[0m\u001b[0;32m     35\u001b[0m     \u001b[1;32mfor\u001b[0m \u001b[0mj\u001b[0m \u001b[1;32min\u001b[0m \u001b[0mrange\u001b[0m\u001b[1;33m(\u001b[0m\u001b[0mM\u001b[0m\u001b[1;33m)\u001b[0m\u001b[1;33m:\u001b[0m\u001b[1;33m\u001b[0m\u001b[1;33m\u001b[0m\u001b[0m\n\u001b[0;32m     36\u001b[0m         \u001b[0mX\u001b[0m\u001b[1;33m.\u001b[0m\u001b[0mappend\u001b[0m\u001b[1;33m(\u001b[0m\u001b[1;33m(\u001b[0m\u001b[0mx\u001b[0m\u001b[1;33m[\u001b[0m\u001b[0mid\u001b[0m\u001b[1;33m[\u001b[0m\u001b[0mj\u001b[0m\u001b[1;33m]\u001b[0m\u001b[1;33m]\u001b[0m\u001b[1;33m,\u001b[0m\u001b[0my\u001b[0m\u001b[1;33m[\u001b[0m\u001b[0mid\u001b[0m\u001b[1;33m[\u001b[0m\u001b[0mj\u001b[0m\u001b[1;33m]\u001b[0m\u001b[1;33m]\u001b[0m\u001b[1;33m,\u001b[0m\u001b[0mgamma\u001b[0m\u001b[1;33m[\u001b[0m\u001b[0mid\u001b[0m\u001b[1;33m[\u001b[0m\u001b[0mj\u001b[0m\u001b[1;33m]\u001b[0m\u001b[1;33m]\u001b[0m\u001b[1;33m,\u001b[0m\u001b[0mw\u001b[0m\u001b[1;33m[\u001b[0m\u001b[0mid\u001b[0m\u001b[1;33m[\u001b[0m\u001b[0mj\u001b[0m\u001b[1;33m]\u001b[0m\u001b[1;33m]\u001b[0m\u001b[1;33m)\u001b[0m\u001b[1;33m)\u001b[0m\u001b[1;33m\u001b[0m\u001b[1;33m\u001b[0m\u001b[0m\n",
      "\u001b[1;32mmtrand.pyx\u001b[0m in \u001b[0;36mmtrand.RandomState.choice\u001b[1;34m()\u001b[0m\n",
      "\u001b[1;31mValueError\u001b[0m: probabilities do not sum to 1"
     ]
    },
    {
     "data": {
      "image/png": "[encoded data removed]",
      "text/plain": [
       "<Figure size 432x288 with 1 Axes>"
      ]
     },
     "metadata": {
      "needs_background": "light"
     },
     "output_type": "display_data"
    }
   ],
   "source": [
    "import numpy as np\n",
    "N=625\n",
    "Xtrue = mat['XTRUE']\n",
    "XTrue_tinh_duoc_max = []\n",
    "XTrue_tinh_duoc_tb = []\n",
    "XTrue_tinh_duoc_min = []\n",
    "XODO = mat['XODO']\n",
    "vg=mat['VG']\n",
    "x_pre=np.zeros((3,N))\n",
    "\n",
    "for i in range(N):\n",
    "    x_pre[0][i]=XODO[0][i]-np.cos(XODO[2][i])*vg[0][i]*0.025  ## hoanh do\n",
    "    x_pre[1][i]=XODO[1][i]-np.sin(XODO[2][i])*vg[0][i]*0.025## tung do\n",
    "    x_pre[2][i]=XODO[2][i]-vg[1][i]\n",
    "    \n",
    "    ## PARTICLE \n",
    "    M=100 # sample\n",
    "    w = [] ##trong so cua particle\n",
    "    x,y,gamma=particle(vg[0][0],0.5,vg[1][0],np.pi/60,x_pre[0][0],x_pre[1][0],x_pre[2][0],M)\n",
    "    plt.plot(x,y,'ro')\n",
    "    for j in range(M):\n",
    "        khoangcach_goclech = tinhkhoangcach((x[j],y[j],gamma[j]),mat['Z'].T[i].T[2],lm.T)\n",
    "        w.append(weight(khoangcach_goclech,(0.025,np.pi/60),mat['Z'].T[i].T[0:2].T))\n",
    "   \n",
    "    w = np.array(w)\n",
    "    sum_w = np.sum(w)\n",
    "    for i  in range(M):\n",
    "        w[i] = w[i]/sum_w\n",
    "    ##lay mau lan nua\n",
    "    X = [] ##day la M particle cuoi cung\n",
    "    id = np.zeros(M).astype(int)\n",
    "    for j in range(M):\n",
    "        id[j] = j\n",
    "    id = np.random.choice(id, M, p=w)\n",
    "    for j in range(M):\n",
    "        X.append((x[id[j]],y[id[j]],gamma[id[j]],w[id[j]]))\n",
    "    ##tinh particle co trong so lon nhat, nho nhat, va trung binh\n",
    "    X = np.array(X)\n",
    "    XTrue_tinh_duoc_max.append(X[np.argmax(X.T[3])][0:3])\n",
    "    XTrue_tinh_duoc_min.append(X[np.argmin(X.T[3])][0:3])\n",
    "    ## tinh particle trung binh\n",
    "    x_tb = np.sum(X.T[0]*X.T[3])\n",
    "    y_tb = np.sum(X.T[1]*X.T[3])\n",
    "    gamma_tb = np.sum(X.T[2]*X.T[3])\n",
    "    XTrue_tinh_duoc_tb.append((x_tb,y_tb,gamma_tb))\n",
    "\n"
   ]
  },
  {
   "cell_type": "code",
   "execution_count": null,
   "metadata": {},
   "outputs": [],
   "source": [
    "print(XTrue_tinh_duoc_tb)"
   ]
  },
  {
   "cell_type": "code",
   "execution_count": null,
   "metadata": {},
   "outputs": [],
   "source": [
    "a=np.random.randint(1,5,(5,4))\n",
    "print(a.shape)\n",
    "b=a.reshape(1,5)\n",
    "print(b.reshape((5,)))"
   ]
  },
  {
   "cell_type": "code",
   "execution_count": null,
   "metadata": {},
   "outputs": [],
   "source": [
    "print(np.zeros(10).astype(int))"
   ]
  },
  {
   "cell_type": "code",
   "execution_count": 252,
   "metadata": {},
   "outputs": [
    {
     "name": "stdout",
     "output_type": "stream",
     "text": [
      "[0 0 0 0 0 0 0 0 0 0 0 0 0 0 0 0 0 0 0 0 0 0 0 0 0 0 0 0 0 0 0 0 0 0 0 0 0\n",
      " 0 0 0 0 0 0 0 0 0 0 0 0 0 0 0 0 0 0 0 0 0 0 0 0 0 0 0 0 0 0 0 0 0 0 0 0 0\n",
      " 0 0 0 0 0 0 0 0 0 0 0 0 0 0 0 0 0 0 0 0 0 0 0 0 0 0]\n"
     ]
    }
   ],
   "source": [
    "print(w)"
   ]
  },
  {
   "cell_type": "code",
   "execution_count": null,
   "metadata": {},
   "outputs": [],
   "source": []
  }
 ],
 "metadata": {
  "kernelspec": {
   "display_name": "Python 3",
   "language": "python",
   "name": "python3"
  },
  "language_info": {
   "codemirror_mode": {
    "name": "ipython",
    "version": 3
   },
   "file_extension": ".py",
   "mimetype": "text/x-python",
   "name": "python",
   "nbconvert_exporter": "python",
   "pygments_lexer": "ipython3",
   "version": "3.7.3"
  }
 },
 "nbformat": 4,
 "nbformat_minor": 2
}
