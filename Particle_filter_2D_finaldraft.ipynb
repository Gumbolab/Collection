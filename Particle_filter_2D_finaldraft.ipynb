{
 "cells": [
  {
   "cell_type": "code",
   "execution_count": 314,
   "metadata": {},
   "outputs": [],
   "source": [
    "### doc data \n",
    "import scipy.io\n",
    "from scipy.stats import norm\n",
    "mat = scipy.io.loadmat('E:/data/2Dparticle.mat')\n",
    "lm=mat['lm']\n",
    "xodo=mat['XODO']\n",
    "xtrue=mat['XTRUE']\n",
    "vg=mat['VG']\n",
    "z=mat['Z']\n"
   ]
  },
  {
   "cell_type": "code",
   "execution_count": 299,
   "metadata": {},
   "outputs": [],
   "source": [
    "#tao particle\n",
    "def particle(v,delta_v,g,delta_g,toa_do,so_mau):##toa do array 1 chiu\n",
    "    v=np.random.normal(v,delta_v,so_mau)# so particle\n",
    "    g=np.random.normal(g,delta_g,so_mau)# so particle bang cach them noise\n",
    "    # bb \n",
    "   \n",
    "    toado=np.zeros((3,so_mau))\n",
    "    toado[2]=toa_do[2]+g\n",
    "    toado[0] =toa_do[0]+v*0.025*np.cos(toado[2])## hoanh do\n",
    "    toado[1]=toa_do[1]+v*0.025*np.sin(toado[2])## tung do\n",
    "     ## goc steering\n",
    "    return toado\n",
    "##tinh khoang cach cua cac particle ts lnmark tung ung, neu gia tri trong vector la nan, tinh theo tung z\n",
    "def khoangcach(toado_lm,toado_p,id_lm):##toa do lm la array 10x2 chieu, toa do particle all particle(3x so mau),id_lm(z3)(1x5)\n",
    "        N=toado_p.shape[1] ## so particle\n",
    "        toado_paticle=toado_p[0:2].T\n",
    "        distan=np.zeros((N,5))\n",
    "        goc=np.zeros((N,5))\n",
    "        for j in range(5):\n",
    "            if(np.isnan(id_lm[j])):\n",
    "                break\n",
    "                \n",
    "            else:\n",
    "                    for i in range(N):\n",
    "            \n",
    "                            temp= toado_lm[id_lm[j].astype(int)-1]-toado_paticle[i]\n",
    "                           \n",
    "                            distan[i][j]=np.sqrt(np.sum(temp*temp))\n",
    "                            \n",
    "                            mz=complex(temp[0],temp[1])\n",
    "                            \n",
    "                            goc[i][j]=np.angle(mz)-toado_p[2][i]\n",
    "                            \n",
    "                            \n",
    "                            \n",
    "        return distan,goc ## array so_maux5\n"
   ]
  },
  {
   "cell_type": "code",
   "execution_count": 300,
   "metadata": {},
   "outputs": [],
   "source": [
    "\n",
    "def weight(z,distan,goc,so_mau,k):### tinnh cho 1 bo particle,z=3x5x625,m=1000x5,n=1000x5\n",
    "    weight=np.ones((so_mau,))\n",
    "    \n",
    "    ###tinnh xac xuat khoang cachs\n",
    "    r=z[0].T\n",
    "    alpha=z[1].T\n",
    "    \n",
    "    for i in range(so_mau):\n",
    "        \n",
    "        count=0\n",
    "        temp=0\n",
    "        \n",
    "        for j in range(5):\n",
    "                    if(np.isnan(r[k][j])):## neu z is NaN thi z, goc, alpha giong nhau\n",
    "                                if count==0:\n",
    "                            \n",
    "                                        break\n",
    "                                else:\n",
    "                                    \n",
    "                                        weight[i]=temp\n",
    "                                        break\n",
    "                  \n",
    "                    else:   \n",
    "                                count=count+1\n",
    "                                ##distan la mean. std=0.2\n",
    "                                total_dis=np.arange(distan[i][j]-1,distan[i][j]+1,0.0001) \n",
    "                                sum_dis=sum(norm.pdf(total_dis,distan[i][j],0.2))# khaong cach\n",
    "                                eyes_dis=np.arange(r[k][j]-0.01,r[k][j]+0.01,0.0001)\n",
    "                                temp=temp+sum(norm.pdf(eyes_dis,distan[i][j],0.2))/sum_dis\n",
    "                               \n",
    "                                ## goc la mean, std=2 degree\n",
    "                                total_goc=np.arange(goc[i][j]-np.pi/18,goc[i][j]+np.pi/18,0.0001)\n",
    "                                sum_goc=sum(norm.pdf(total_goc,goc[i][j],np.pi/90))\n",
    "                             \n",
    "                                eyes_goc=np.arange(alpha[k][j]-0.01,alpha[k][j]+0.01,0.0001)\n",
    "                                temp=temp+sum(norm.pdf(eyes_goc,goc[i][j],np.pi/90))/sum_goc\n",
    "                                \n",
    "\n",
    "                \n",
    "    return weight    ### cho 1 particle      \n",
    "                \n",
    "                \n",
    "        \n",
    "         \n",
    "    "
   ]
  },
  {
   "cell_type": "code",
   "execution_count": 301,
   "metadata": {},
   "outputs": [
    {
     "name": "stdout",
     "output_type": "stream",
     "text": [
      "[-0.0007212   0.01331884 -0.10130555]\n"
     ]
    },
    {
     "data": {
      "image/png": "[encoded data removed]",
      "text/plain": [
       "<Figure size 432x288 with 1 Axes>"
      ]
     },
     "metadata": {
      "needs_background": "light"
     },
     "output_type": "display_data"
    }
   ],
   "source": [
    "### tinh toa do chua them noise\n",
    "import numpy as np\n",
    "N=625\n",
    "\n",
    "x_n_noise=np.zeros((3,N))\n",
    "for i  in range(N):\n",
    "    x_n_noise[0][i]=xodo[0][i]-np.cos(xodo[2][i])*vg[0][i]*0.025  ## hoanh do\n",
    "    x_n_noise[1][i]=xodo[1][i]-np.sin(xodo[2][i])*vg[0][i]*0.025## tung do\n",
    "    x_n_noise[2][i]=xodo[2][i]-vg[1][i] # goc lech so voi phuong ngang\n",
    "print(x_n_noise.T[0])\n",
    "## tinh particle\n",
    "so_mau=1000\n",
    "quy_dao_max=[]\n",
    "quy_dao_min=[]\n",
    "quy_dao_tb=[]\n",
    "for M in range(N):\n",
    "                        toa_do_particle=particle(vg[0][M],0.5,vg[1][M],np.pi/60,x_n_noise.T[M],so_mau)## cho 1 timestep\n",
    "                       \n",
    "                       \n",
    "                        ## tính khoảng cách\n",
    "                        m,n=khoangcach(lm.T,toa_do_particle,z[2].T[M])\n",
    "                        \n",
    "                        \n",
    "                        ##mean la measurement tien doan vs vi tri particle, tu dok tinnh weight\n",
    "                        w=weight(z,m,n,so_mau,M)\n",
    "                       \n",
    "                        w=w/sum(w)\n",
    "\n",
    "                        ####resampling, theo sx , \n",
    "                        id_re=[]\n",
    "                        ar=np.arange(0,so_mau)\n",
    "                        for i in range(so_mau):\n",
    "                            id_re.append(np.random.choice(ar,1,p=w))\n",
    "                        \n",
    "                        ss=w[id_re]## trong so sau khi rut ra\n",
    "                        id_max_true=id_re[np.argmax(ss)] ## tra ve id max\n",
    "                        id_min_true=id_re[np.argmin(ss)] ## min\n",
    "                        quy_dao_max.append(toa_do_particle.T[id_max_true])\n",
    "                        quy_dao_min.append(toa_do_particle.T[id_min_true])\n",
    "                        tbinh=toa_do_particle.T[id_re]\n",
    "                        quy_dao_tb.append(sum(tbinh)/so_mau)"
   ]
  },
  {
   "cell_type": "code",
   "execution_count": 318,
   "metadata": {},
   "outputs": [
    {
     "name": "stdout",
     "output_type": "stream",
     "text": [
      "(3, 625)\n"
     ]
    },
    {
     "data": {
      "text/plain": [
       "Text(0.5, 1.0, 'quy dao xodo')"
      ]
     },
     "execution_count": 318,
     "metadata": {},
     "output_type": "execute_result"
    },
    {
     "data": {
      "image/png": "[encoded data removed]",
      "text/plain": [
       "<Figure size 432x288 with 4 Axes>"
      ]
     },
     "metadata": {
      "needs_background": "light"
     },
     "output_type": "display_data"
    }
   ],
   "source": [
    "quy_dao_m1=np.array(quy_dao_max)\n",
    "\n",
    "qd_max=quy_dao_m1.reshape((625,3)).T\n",
    "\n",
    "qd_m2=np.array(quy_dao_min)\n",
    "\n",
    "qd_min=qd_m2.reshape((625,3)).T\n",
    "\n",
    "qd_tb=np.array(quy_dao_tb)\n",
    "\n",
    "qd_tbc=qd_tb.reshape((625,3)).T\n",
    "print(qd_max.shape)\n",
    "plt.subplot(221)\n",
    "plt.plot(lm[0],lm[1],'ro')\n",
    "plt.plot(xtrue[0],xtrue[1],label=\"xtrue\")\n",
    "plt.plot(qd_max[0],qd_max[1],color='black')\n",
    "plt.title(\"quy dao max\",color='red')\n",
    "\n",
    "plt.subplot(222)\n",
    "plt.plot(lm[0],lm[1],'ro')\n",
    "plt.plot(xtrue[0],xtrue[1],label=\"xtrue\")\n",
    "plt.plot(qd_tbc[0],qd_tbc[1],color='yellow')\n",
    "plt.title(\"quy dao trung binh\",color='red')\n",
    "\n",
    "plt.subplot(223)\n",
    "plt.plot(lm[0],lm[1],'ro')\n",
    "plt.plot(xtrue[0],xtrue[1],label=\"xtrue\")\n",
    "plt.plot(qd_min[0],qd_min[1],color='green')\n",
    "plt.title(\"quy dao min\",color='red')\n",
    "\n",
    "plt.subplot(224)\n",
    "plt.plot(lm[0],lm[1],'ro')\n",
    "plt.plot(xtrue[0],xtrue[1],label=\"xtrue\")\n",
    "plt.plot(xodo[0],xodo[1],color='black')\n",
    "plt.title(\"quy dao xodo\",color=\"red\")"
   ]
  },
  {
   "cell_type": "code",
   "execution_count": 337,
   "metadata": {},
   "outputs": [
    {
     "name": "stdout",
     "output_type": "stream",
     "text": [
      "(1, 256)\n"
     ]
    }
   ],
   "source": [
    "adg=np.random.randint(1 ,5,(4,4,4,4))\n",
    "\n",
    "ads=adg.reshape(-1,16*16)\n",
    "print(ads.shape)"
   ]
  },
  {
   "cell_type": "code",
   "execution_count": null,
   "metadata": {},
   "outputs": [],
   "source": []
  }
 ],
 "metadata": {
  "kernelspec": {
   "display_name": "Python 3",
   "language": "python",
   "name": "python3"
  },
  "language_info": {
   "codemirror_mode": {
    "name": "ipython",
    "version": 3
   },
   "file_extension": ".py",
   "mimetype": "text/x-python",
   "name": "python",
   "nbconvert_exporter": "python",
   "pygments_lexer": "ipython3",
   "version": "3.7.3"
  }
 },
 "nbformat": 4,
 "nbformat_minor": 2
}
