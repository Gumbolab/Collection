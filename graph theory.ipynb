{
 "cells": [
  {
   "cell_type": "code",
   "execution_count": 37,
   "metadata": {},
   "outputs": [],
   "source": [
    "import os\n",
    "f=open(\"E:/data/filetxt/testcase.txt\",\"r\")\n",
    "\n",
    "line=f.readlines()\n",
    "edges=[]\n",
    "for i in line:\n",
    "        if line.index(i)==0:\n",
    "            n=list(map(int,i.split()))[0]\n",
    "        elif line.index(i)==len(line)-1:\n",
    "                s=list(map(int,i.split()))[-1]\n",
    "        else:x= list(map(int,i.split()))\n",
    "        edges.append(x)\n",
    "        "
   ]
  },
  {
   "cell_type": "markdown",
   "metadata": {},
   "source": [
    "### create graph object\n",
    "attribute:vertices,edges,graph<- create method\n",
    "method:shortestpath through over each vertices\n",
    " "
   ]
  },
  {
   "cell_type": "code",
   "execution_count": 60,
   "metadata": {},
   "outputs": [
    {
     "name": "stdout",
     "output_type": "stream",
     "text": [
      "[20, 25, 25, 68, 86, 39, 22, 70, 61, 53, 91, 66, 88, 30, 30, 43, 66, 74, 41]\n"
     ]
    }
   ],
   "source": [
    "class Graph:\n",
    "    def __init__(self,edges,N):\n",
    "               self.edges=edges\n",
    "               self.N=N\n",
    "               self.G=self.CreateGraph()\n",
    "    def CreateGraph(self):\n",
    "               Gr=[]\n",
    "               for i in range(self.N):\n",
    "                     Gr.append([])\n",
    "               for link in self.edges:### create graph\n",
    "                     Gr[link[0]-1].append([link[1],link[2]])\n",
    "                     Gr[link[1]-1].append([link[0],link[2]])\n",
    "               return Gr\n",
    "    def FindMin(self,list_node):\n",
    "                Min_in_list=list_node[0]\n",
    "                for i in list_node:\n",
    "                    if Min_in_list[1]>i[1]:\n",
    "                        Min_in_list=i\n",
    "                return Min_in_list\n",
    "    def ShortestReach(self,s):\n",
    "                    result=[]\n",
    "                    path =[]\n",
    "                    next_node=[]\n",
    "                    next_node.append([s,0])\n",
    "                    for i in range(self.N):\n",
    "                        result.append(-1)\n",
    "                    while len(next_node)!=0:\n",
    "                            node_add_to_path=self.FindMin(next_node)\n",
    "                            path.append(node_add_to_path)\n",
    "                            result[node_add_to_path[0]-1]=node_add_to_path[1]\n",
    "                            ### delete node already in path list\n",
    "                            for del_or_not in next_node:\n",
    "                                    if del_or_not[0]== path[-1][0]:\n",
    "                                                next_node.remove(del_or_not)\n",
    "                            ##add next node link to current node in path list\n",
    "                            current_node_in_path=self.G[path[-1][0]-1]\n",
    "                            for add_or_not in current_node_in_path:\n",
    "                                    if result[add_or_not[0]-1]==-1:\n",
    "                                                  next_node.append([add_or_not[0],node_add_to_path[1]+add_or_not[1]])\n",
    "                    result.pop(s-1)\n",
    "                    return result\n",
    "            \n",
    "            \n",
    "g=Graph(edges,n)\n",
    "g.G\n",
    "R=g.ShortestReach(s)\n",
    "print(R)"
   ]
  },
  {
   "cell_type": "code",
   "execution_count": null,
   "metadata": {},
   "outputs": [],
   "source": [
    "ab=[]\n",
    "for i in range (10):\n",
    "        ab.append(-1)\n",
    "        "
   ]
  }
 ],
 "metadata": {
  "kernelspec": {
   "display_name": "Python 3",
   "language": "python",
   "name": "python3"
  },
  "language_info": {
   "codemirror_mode": {
    "name": "ipython",
    "version": 3
   },
   "file_extension": ".py",
   "mimetype": "text/x-python",
   "name": "python",
   "nbconvert_exporter": "python",
   "pygments_lexer": "ipython3",
   "version": "3.7.3"
  }
 },
 "nbformat": 4,
 "nbformat_minor": 2
}
