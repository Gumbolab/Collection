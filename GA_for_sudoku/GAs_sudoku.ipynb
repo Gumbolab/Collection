{
 "cells": [
  {
   "cell_type": "code",
   "execution_count": 14,
   "metadata": {},
   "outputs": [],
   "source": [
    "import numpy as np\n",
    "\n",
    "def Init_Gene():\n",
    "    gene = np.array([1,2,3,4,5,6,7,8,9]);\n",
    "    np.random.shuffle(gene)\n",
    "    return gene\n",
    "def Init_Table():\n",
    "    b = np.zeros((9,9)).astype(int)\n",
    "    for i in range(9):\n",
    "        b[i] = Init_Gene()\n",
    "    return b\n",
    "def FirstGen(SizePop):\n",
    "    Pop = []\n",
    "    for i in range(SizePop):\n",
    "        Pop.append(Init_Table())\n",
    "    return Pop\n",
    "def TestCol(A):\n",
    "    g = [1,2,3,4,5,6,7,8,9]\n",
    "    for i in range(9):\n",
    "        if g[A[i]-1] == 0:\n",
    "            return 0\n",
    "        else:\n",
    "            g[A[i]-1] = 0\n",
    "    return 1\n",
    "## kiểm tra có cột và cum thoa man, return id của list\n",
    "def Fitness(Individual):\n",
    "    Col=Individual.T\n",
    "    count=0\n",
    "    for i in range (9):\n",
    "         count+=TestCol(Col[i])\n",
    "    for k in range(3):\n",
    "        for m in range(3):\n",
    "            kkk=Individual[m*3:m*3+3,k*3:k*3+3].reshape(9)\n",
    "            count+=TestCol(kkk)\n",
    "    return count\n",
    "def Crossover(parent1,parent2,ids):\n",
    "    ###parent la mot mang 2 chieu\n",
    "    ###trao doi cac row cua cua 2 bo me\n",
    "    NumRow=parent1.shape[0]\n",
    "  \n",
    "    temp=np.zeros((4,9)).astype(int)\n",
    "    temp=parent1[ids]\n",
    "    parent1[ids]=parent2[ids]\n",
    "    parent2[ids]=temp\n",
    "    return parent1, parent2\n",
    "        \n",
    "def Mutation(DoiCon):\n",
    "       \n",
    "        rowid=np.random.randint(0,9,2)\n",
    "        for i in rowid:\n",
    "                ids=np.random.randint(0,9,2)\n",
    "                temp= DoiCon[i][ids[0]]\n",
    "                DoiCon[i][ids[0]]=DoiCon[i][ids[1]]\n",
    "                DoiCon[i][ids[1]]=temp\n",
    "        return DoiCon\n",
    "def select(sizePop,Pop):\n",
    "    TinhThichNghi = np.zeros(SizePop).astype(int)###\n",
    "    for i in range(SizePop):\n",
    "            TinhThichNghi[i] = Fitness(Pop[i])\n",
    "    return TinhThichNghi"
   ]
  },
  {
   "cell_type": "code",
   "execution_count": 16,
   "metadata": {},
   "outputs": [
    {
     "name": "stdout",
     "output_type": "stream",
     "text": [
      "[0 0 0 0 0 0 0 0 0 0 0 0 0 0 0 0 0 0 0 0]\n"
     ]
    },
    {
     "ename": "NameError",
     "evalue": "name 'offspring' is not defined",
     "output_type": "error",
     "traceback": [
      "\u001b[1;31m---------------------------------------------------------------------------\u001b[0m",
      "\u001b[1;31mNameError\u001b[0m                                 Traceback (most recent call last)",
      "\u001b[1;32m<ipython-input-16-50e5a6eb74e8>\u001b[0m in \u001b[0;36m<module>\u001b[1;34m\u001b[0m\n\u001b[0;32m     18\u001b[0m                 \u001b[0mf1\u001b[0m\u001b[1;33m,\u001b[0m\u001b[0mf2\u001b[0m\u001b[1;33m=\u001b[0m\u001b[0mCrossover\u001b[0m\u001b[1;33m(\u001b[0m\u001b[0mParent\u001b[0m\u001b[1;33m[\u001b[0m\u001b[0mLai\u001b[0m\u001b[1;33m[\u001b[0m\u001b[1;36m2\u001b[0m\u001b[1;33m*\u001b[0m\u001b[0mi\u001b[0m\u001b[1;33m]\u001b[0m\u001b[1;33m]\u001b[0m\u001b[1;33m,\u001b[0m\u001b[0mParent\u001b[0m\u001b[1;33m[\u001b[0m\u001b[0mLai\u001b[0m\u001b[1;33m[\u001b[0m\u001b[1;36m2\u001b[0m\u001b[1;33m*\u001b[0m\u001b[0mi\u001b[0m\u001b[1;33m+\u001b[0m\u001b[1;36m1\u001b[0m\u001b[1;33m]\u001b[0m\u001b[1;33m]\u001b[0m\u001b[1;33m,\u001b[0m\u001b[0mids\u001b[0m\u001b[1;33m)\u001b[0m\u001b[1;33m\u001b[0m\u001b[1;33m\u001b[0m\u001b[0m\n\u001b[0;32m     19\u001b[0m     \u001b[1;31m## dot bien\u001b[0m\u001b[1;33m\u001b[0m\u001b[1;33m\u001b[0m\u001b[1;33m\u001b[0m\u001b[0m\n\u001b[1;32m---> 20\u001b[1;33m                 \u001b[0moffspring\u001b[0m\u001b[1;33m.\u001b[0m\u001b[0mappend\u001b[0m\u001b[1;33m(\u001b[0m\u001b[0mMutation\u001b[0m\u001b[1;33m(\u001b[0m\u001b[0mf1\u001b[0m\u001b[1;33m)\u001b[0m\u001b[1;33m)\u001b[0m\u001b[1;33m\u001b[0m\u001b[1;33m\u001b[0m\u001b[0m\n\u001b[0m\u001b[0;32m     21\u001b[0m                 \u001b[0moffspring\u001b[0m\u001b[1;33m.\u001b[0m\u001b[0mappend\u001b[0m\u001b[1;33m(\u001b[0m\u001b[0mMutation\u001b[0m\u001b[1;33m(\u001b[0m\u001b[0mf2\u001b[0m\u001b[1;33m)\u001b[0m\u001b[1;33m)\u001b[0m\u001b[1;33m\u001b[0m\u001b[1;33m\u001b[0m\u001b[0m\n\u001b[0;32m     22\u001b[0m \u001b[1;33m\u001b[0m\u001b[0m\n",
      "\u001b[1;31mNameError\u001b[0m: name 'offspring' is not defined"
     ]
    }
   ],
   "source": [
    "## khoi tao the he dau tien:\n",
    "SizePop = 20\n",
    "NumParent=10\n",
    "Pop=FirstGen(SizePop)\n",
    "\n",
    "Parent=[]\n",
    "Parent=Pop\n",
    "print(select(SizePop,Pop))\n",
    "##tao ra cap bo me ngau nhien\n",
    "Lai=np.random.randint(0,SizePop,SizePop)\n",
    "ids=np.random.randint(0,9,4)\n",
    "np.random.shuffle(ids)\n",
    "for epoch in range(100):    \n",
    "        for i in range(NumParent):\n",
    "    ## lai  \n",
    "                \n",
    "                \n",
    "                f1,f2=Crossover(Parent[Lai[2*i]],Parent[Lai[2*i+1]],ids)  \n",
    "    ## dot bien\n",
    "                offspring.append(Mutation(f1))\n",
    "                offspring.append(Mutation(f2))\n",
    "     \n",
    "                \n",
    "                \n",
    " "
   ]
  },
  {
   "cell_type": "code",
   "execution_count": null,
   "metadata": {},
   "outputs": [],
   "source": []
  }
 ],
 "metadata": {
  "kernelspec": {
   "display_name": "Python 3",
   "language": "python",
   "name": "python3"
  },
  "language_info": {
   "codemirror_mode": {
    "name": "ipython",
    "version": 3
   },
   "file_extension": ".py",
   "mimetype": "text/x-python",
   "name": "python",
   "nbconvert_exporter": "python",
   "pygments_lexer": "ipython3",
   "version": "3.7.3"
  }
 },
 "nbformat": 4,
 "nbformat_minor": 2
}
