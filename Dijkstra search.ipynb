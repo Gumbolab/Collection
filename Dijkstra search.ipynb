{
 "cells": [
  {
   "cell_type": "code",
   "execution_count": 1,
   "metadata": {},
   "outputs": [
    {
     "name": "stdout",
     "output_type": "stream",
     "text": [
      "[[1 2 4]\n",
      " [1 3 6]\n",
      " [2 3 5]\n",
      " [3 4 2]]\n"
     ]
    }
   ],
   "source": [
    "import numpy as np\n",
    "edges=[[1,2,4],[1,3,6],[2,3,5],[3,4,2]]\n",
    "edges=np.array(edges)\n",
    "print(edges)"
   ]
  },
  {
   "cell_type": "code",
   "execution_count": 2,
   "metadata": {},
   "outputs": [],
   "source": [
    "def Min(candidate):\n",
    "    MinInList=candidate[0]\n",
    "    \n",
    "    for so in candidate:\n",
    "           if MinInList[1]>=so[1]:\n",
    "                MinInList=so\n",
    "    return MinInList\n"
   ]
  },
  {
   "cell_type": "code",
   "execution_count": null,
   "metadata": {},
   "outputs": [],
   "source": [
    "def Min(candidate):\n",
    "    MinInList=candidate[0]\n",
    "    \n",
    "    for so in candidate:\n",
    "           if MinInList[1]>so[1]:\n",
    "                MinInList=so\n",
    "    return MinInList\n",
    "\n",
    "# Complete the shortestReach function below.\n",
    "def shortestReach(N, edges, S):\n",
    "    Graph=[]\n",
    "    for i in range(N):\n",
    "        Graph.append([])\n",
    "    for edge in edges:\n",
    "       Graph[edge[0]-1].append([edge[1],edge[2]])\n",
    "       Graph[edge[1]-1].append([edge[0],edge[2]])\n",
    "    \n",
    "    Tree=[]\n",
    "    for k in range(N):\n",
    "        Tree.append(-1)\n",
    "    \n",
    "    candidate=[]\n",
    "## first step: add start node into the candidate list\n",
    "    candidate.append([S,0])\n",
    "## loop: add min distance link into Tree list\n",
    "    while len(candidate) !=0:\n",
    "        print(candidate)\n",
    "        FindMin=Min(candidate)\n",
    "       ##find min cost\n",
    "        Tree[FindMin[0]-1]=FindMin[1]\n",
    "        candidate.remove(FindMin)\n",
    "        ##add link into candidate list sao cho chua xuat hien tong Tree list\n",
    "        \n",
    "        PrevNode=FindMin\n",
    "       \n",
    "        NextPath=Graph[PrevNode[0]-1]\n",
    "        \n",
    "        for node  in NextPath:### check in Graph\n",
    "                        \n",
    "                        ##if next node in tree list, then ignore that node\n",
    "                      \n",
    "                        if Tree[node[0]-1]==-1:\n",
    "                                   Willbeadd=[node[0],node[1]+PrevNode[1]]\n",
    "                                   candidate.append(Willbeadd)\n",
    "    Tree.pop(S-1)                           \n",
    "    return Tree"
   ]
  },
  {
   "cell_type": "code",
   "execution_count": null,
   "metadata": {},
   "outputs": [],
   "source": []
  }
 ],
 "metadata": {
  "kernelspec": {
   "display_name": "Python 3",
   "language": "python",
   "name": "python3"
  },
  "language_info": {
   "codemirror_mode": {
    "name": "ipython",
    "version": 3
   },
   "file_extension": ".py",
   "mimetype": "text/x-python",
   "name": "python",
   "nbconvert_exporter": "python",
   "pygments_lexer": "ipython3",
   "version": "3.7.3"
  }
 },
 "nbformat": 4,
 "nbformat_minor": 2
}
