{
 "cells": [
  {
   "cell_type": "code",
   "execution_count": 1,
   "metadata": {},
   "outputs": [
    {
     "name": "stdout",
     "output_type": "stream",
     "text": [
      "nhap so a: 252\n",
      "nhap so b: 105\n",
      "21\n",
      "21\n"
     ]
    }
   ],
   "source": [
    "A=int(input(\"nhap so a: \"))\n",
    "B=int(input(\"nhap so b: \"))\n",
    "def GCD(A,B):\n",
    "            if A>B:\n",
    "                a=A\n",
    "                b=B\n",
    "            else: \n",
    "                  a=B\n",
    "                  b=A\n",
    "\n",
    "            while(a%b!=0):\n",
    "                r=a%b\n",
    "                a=b\n",
    "                b=r\n",
    "            print(b) \n",
    "            return b\n",
    "print(GCD(A,B))"
   ]
  },
  {
   "cell_type": "code",
   "execution_count": null,
   "metadata": {},
   "outputs": [],
   "source": []
  }
 ],
 "metadata": {
  "kernelspec": {
   "display_name": "Python 3",
   "language": "python",
   "name": "python3"
  },
  "language_info": {
   "codemirror_mode": {
    "name": "ipython",
    "version": 3
   },
   "file_extension": ".py",
   "mimetype": "text/x-python",
   "name": "python",
   "nbconvert_exporter": "python",
   "pygments_lexer": "ipython3",
   "version": "3.7.3"
  }
 },
 "nbformat": 4,
 "nbformat_minor": 2
}
