{
 "cells": [
  {
   "cell_type": "code",
   "execution_count": 8,
   "metadata": {},
   "outputs": [],
   "source": [
    "import numpy as np\n",
    "\n",
    "\n",
    "def Init_Gene():\n",
    "    gene = np.array([1,2,3,4,5,6,7,8,9]);\n",
    "    np.random.shuffle(gene)\n",
    "    return gene\n",
    "\n",
    "def Init_Board():\n",
    "    b = np.zeros((9,9)).astype(int)\n",
    "    for i in range(9):\n",
    "        b[i] = Init_Gene()\n",
    "    return b\n",
    "\n",
    "def Init_Population(SizePop):\n",
    "    Pop = []\n",
    "    for i in range(SizePop):\n",
    "        Pop.append(Init_Board())\n",
    "    return Pop\n",
    "### kiem tra một mảng có phần tuwrw giống nhau\n",
    "def TestCol(A):\n",
    "    g = [1,2,3,4,5,6,7,8,9]\n",
    "    x=0\n",
    "    for i in range(9):\n",
    "        if g[A[i]-1] == 0:\n",
    "            x=0\n",
    "        else:\n",
    "            g[A[i]-1] = 0\n",
    "            x=1\n",
    "    return x\n",
    "## kiểm tra có cột và cum thoa man, return id của list\n",
    "def Fitness(Individual):\n",
    "    Col=Individual.T\n",
    "    count=0\n",
    "    for i in range (9):\n",
    "         count=count+TestCol(Col[i])\n",
    "    for k in range(3):\n",
    "        for m in range(3):\n",
    "            kkk=Individual[m*3:m*3+3,k*3:k*3+3].reshape(9)\n",
    "            count= count+TestCol(kkk)\n",
    "    return count\n",
    "\n",
    "def select(size,Pop):\n",
    "    TinhThichNghi = np.zeros(size).astype(int)###\n",
    "    for i in range(size):\n",
    "            TinhThichNghi[i] = Fitness(Pop[i])\n",
    "    return TinhThichNghi\n",
    "def Crossover(parent1,parent2,ids):\n",
    "    ###parent la mot mang 2 chieu\n",
    "    ###trao doi cac row cua cua 2 bo me\n",
    "\n",
    "   \n",
    "    temp=np.zeros((4,9)).astype(int)\n",
    "    temp=parent1[ids]\n",
    "    parent1[ids]=parent2[ids]\n",
    "    parent2[ids]=temp\n",
    "    return parent1, parent2\n",
    "        \n",
    "def Mutation(DoiCon):\n",
    "       \n",
    "        rowid=np.random.randint(0,9,1)\n",
    "        for i in rowid:\n",
    "                ids=np.random.randint(0,9,2)\n",
    "                temp= DoiCon[i][ids[0]]\n",
    "                DoiCon[i][ids[0]]=DoiCon[i][ids[1]]\n",
    "                DoiCon[i][ids[1]]=temp\n",
    "        return DoiCon\n",
    "def Testparent(lists):\n",
    "    count=0\n",
    "    for i in range(lists.shape[0]):\n",
    "            if lists[i]>=1:\n",
    "                count=count+1\n",
    "    return count## cang lon cang tot\n",
    "def selectparent(thehe,N,size,Ncap):### neu trong dan so chi co vai bo gen tot, thi chi chon cac cap bo me do lai voi nhau\n",
    "    x=select(size,thehe)\n",
    "    ids=np.argsort(x)\n",
    "    idp=ids[size-N:size]\n",
    "    Bome=[]\n",
    "    for i in range(Ncap*100):\n",
    "        z=np.random.randint(0,N,2).astype(int)\n",
    "        if z[1]!=z[0]:\n",
    "            if len(Bome)!=Ncap:\n",
    "                y=idp[z]\n",
    "                Bome.append(y)\n",
    "            else:   \n",
    "                break\n",
    "    return Bome\n",
    "    "
   ]
  },
  {
   "cell_type": "code",
   "execution_count": 9,
   "metadata": {},
   "outputs": [
    {
     "name": "stdout",
     "output_type": "stream",
     "text": [
      "[array([[6, 9, 7, 1, 8, 4, 3, 5, 2],\n",
      "       [9, 3, 6, 7, 1, 8, 4, 2, 5],\n",
      "       [1, 2, 6, 9, 8, 7, 3, 5, 4],\n",
      "       [2, 3, 7, 8, 4, 6, 5, 9, 1],\n",
      "       [9, 6, 8, 2, 3, 4, 1, 5, 7],\n",
      "       [5, 9, 1, 2, 3, 4, 8, 6, 7],\n",
      "       [4, 1, 8, 2, 3, 6, 5, 7, 9],\n",
      "       [8, 4, 7, 6, 3, 9, 5, 1, 2],\n",
      "       [6, 4, 1, 5, 7, 8, 9, 2, 3]]), array([[6, 2, 3, 7, 8, 5, 1, 4, 9],\n",
      "       [2, 6, 1, 3, 4, 5, 8, 7, 9],\n",
      "       [9, 8, 4, 1, 6, 7, 3, 5, 2],\n",
      "       [8, 6, 2, 7, 1, 3, 9, 4, 5],\n",
      "       [8, 5, 6, 2, 7, 1, 9, 3, 4],\n",
      "       [3, 4, 7, 9, 1, 8, 2, 5, 6],\n",
      "       [8, 4, 7, 6, 1, 3, 2, 5, 9],\n",
      "       [4, 5, 9, 7, 6, 1, 3, 8, 2],\n",
      "       [2, 5, 9, 6, 8, 1, 4, 7, 3]]), array([[2, 5, 9, 7, 8, 3, 1, 4, 6],\n",
      "       [6, 8, 9, 3, 5, 4, 2, 7, 1],\n",
      "       [2, 5, 7, 6, 4, 9, 1, 3, 8],\n",
      "       [2, 6, 1, 5, 8, 7, 9, 3, 4],\n",
      "       [2, 5, 6, 8, 7, 1, 4, 3, 9],\n",
      "       [6, 2, 8, 7, 9, 3, 4, 1, 5],\n",
      "       [5, 6, 8, 3, 9, 1, 4, 2, 7],\n",
      "       [3, 9, 4, 5, 1, 8, 2, 7, 6],\n",
      "       [3, 5, 2, 9, 6, 8, 7, 1, 4]])]\n"
     ]
    }
   ],
   "source": [
    "\n",
    "\n",
    "### init population\n",
    "SizePop = 10000\n",
    "sizeCaTheTot=1000##chi chon ra cac ca the tot nhat lam bo me\n",
    "Numparent=600 ##20cap bo me\n",
    "Pop = Init_Population(SizePop)### so ca the ban dau voi 30 ca the, de tao nen su phong phu cua quan the\n",
    "###chua 20id cua so lon hon, chưa list\n",
    "\n",
    "\n",
    "print(Pop[0:3])\n",
    "Parent=[]\n",
    "\n",
    "\n",
    "\n",
    "##id lai tao ngau nhien\n",
    "\n",
    "\n"
   ]
  },
  {
   "cell_type": "code",
   "execution_count": 10,
   "metadata": {},
   "outputs": [
    {
     "name": "stdout",
     "output_type": "stream",
     "text": [
      "Generation:  0     16\n"
     ]
    },
    {
     "ename": "IndexError",
     "evalue": "list index out of range",
     "output_type": "error",
     "traceback": [
      "\u001b[1;31m---------------------------------------------------------------------------\u001b[0m",
      "\u001b[1;31mIndexError\u001b[0m                                Traceback (most recent call last)",
      "\u001b[1;32m<ipython-input-10-f255a85695dc>\u001b[0m in \u001b[0;36m<module>\u001b[1;34m\u001b[0m\n\u001b[0;32m      1\u001b[0m \u001b[0mParent\u001b[0m\u001b[1;33m=\u001b[0m\u001b[0mPop\u001b[0m\u001b[1;33m\u001b[0m\u001b[1;33m\u001b[0m\u001b[0m\n\u001b[0;32m      2\u001b[0m \u001b[1;32mfor\u001b[0m \u001b[0mepoch\u001b[0m \u001b[1;32min\u001b[0m \u001b[0mrange\u001b[0m\u001b[1;33m(\u001b[0m\u001b[1;36m28\u001b[0m\u001b[1;33m)\u001b[0m\u001b[1;33m:\u001b[0m\u001b[1;33m\u001b[0m\u001b[1;33m\u001b[0m\u001b[0m\n\u001b[1;32m----> 3\u001b[1;33m         \u001b[0mid_bome\u001b[0m\u001b[1;33m=\u001b[0m\u001b[0mselectparent\u001b[0m\u001b[1;33m(\u001b[0m\u001b[0mParent\u001b[0m\u001b[1;33m,\u001b[0m\u001b[0msizeCaTheTot\u001b[0m\u001b[1;33m,\u001b[0m\u001b[0mSizePop\u001b[0m\u001b[1;33m,\u001b[0m\u001b[0mNumparent\u001b[0m\u001b[1;33m)\u001b[0m\u001b[1;33m\u001b[0m\u001b[1;33m\u001b[0m\u001b[0m\n\u001b[0m\u001b[0;32m      4\u001b[0m         \u001b[0mids\u001b[0m\u001b[1;33m=\u001b[0m\u001b[0mnp\u001b[0m\u001b[1;33m.\u001b[0m\u001b[0mrandom\u001b[0m\u001b[1;33m.\u001b[0m\u001b[0mrandint\u001b[0m\u001b[1;33m(\u001b[0m\u001b[1;36m0\u001b[0m\u001b[1;33m,\u001b[0m\u001b[1;36m9\u001b[0m\u001b[1;33m,\u001b[0m\u001b[1;36m4\u001b[0m\u001b[1;33m)\u001b[0m\u001b[1;33m\u001b[0m\u001b[1;33m\u001b[0m\u001b[0m\n\u001b[0;32m      5\u001b[0m         \u001b[0moffspring\u001b[0m\u001b[1;33m=\u001b[0m\u001b[1;33m[\u001b[0m\u001b[1;33m]\u001b[0m\u001b[1;33m\u001b[0m\u001b[1;33m\u001b[0m\u001b[0m\n",
      "\u001b[1;32m<ipython-input-8-0555bea7364b>\u001b[0m in \u001b[0;36mselectparent\u001b[1;34m(thehe, N, size, Ncap)\u001b[0m\n\u001b[0;32m     73\u001b[0m     \u001b[1;32mreturn\u001b[0m \u001b[0mcount\u001b[0m\u001b[1;31m## cang lon cang tot\u001b[0m\u001b[1;33m\u001b[0m\u001b[1;33m\u001b[0m\u001b[0m\n\u001b[0;32m     74\u001b[0m \u001b[1;32mdef\u001b[0m \u001b[0mselectparent\u001b[0m\u001b[1;33m(\u001b[0m\u001b[0mthehe\u001b[0m\u001b[1;33m,\u001b[0m\u001b[0mN\u001b[0m\u001b[1;33m,\u001b[0m\u001b[0msize\u001b[0m\u001b[1;33m,\u001b[0m\u001b[0mNcap\u001b[0m\u001b[1;33m)\u001b[0m\u001b[1;33m:\u001b[0m\u001b[1;31m### neu trong dan so chi co vai bo gen tot, thi chi chon cac cap bo me do lai voi nhau\u001b[0m\u001b[1;33m\u001b[0m\u001b[1;33m\u001b[0m\u001b[0m\n\u001b[1;32m---> 75\u001b[1;33m     \u001b[0mx\u001b[0m\u001b[1;33m=\u001b[0m\u001b[0mselect\u001b[0m\u001b[1;33m(\u001b[0m\u001b[0msize\u001b[0m\u001b[1;33m,\u001b[0m\u001b[0mthehe\u001b[0m\u001b[1;33m)\u001b[0m\u001b[1;33m\u001b[0m\u001b[1;33m\u001b[0m\u001b[0m\n\u001b[0m\u001b[0;32m     76\u001b[0m     \u001b[0mids\u001b[0m\u001b[1;33m=\u001b[0m\u001b[0mnp\u001b[0m\u001b[1;33m.\u001b[0m\u001b[0margsort\u001b[0m\u001b[1;33m(\u001b[0m\u001b[0mx\u001b[0m\u001b[1;33m)\u001b[0m\u001b[1;33m\u001b[0m\u001b[1;33m\u001b[0m\u001b[0m\n\u001b[0;32m     77\u001b[0m     \u001b[0midp\u001b[0m\u001b[1;33m=\u001b[0m\u001b[0mids\u001b[0m\u001b[1;33m[\u001b[0m\u001b[0msize\u001b[0m\u001b[1;33m-\u001b[0m\u001b[0mN\u001b[0m\u001b[1;33m:\u001b[0m\u001b[0msize\u001b[0m\u001b[1;33m]\u001b[0m\u001b[1;33m\u001b[0m\u001b[1;33m\u001b[0m\u001b[0m\n",
      "\u001b[1;32m<ipython-input-8-0555bea7364b>\u001b[0m in \u001b[0;36mselect\u001b[1;34m(size, Pop)\u001b[0m\n\u001b[0;32m     44\u001b[0m     \u001b[0mTinhThichNghi\u001b[0m \u001b[1;33m=\u001b[0m \u001b[0mnp\u001b[0m\u001b[1;33m.\u001b[0m\u001b[0mzeros\u001b[0m\u001b[1;33m(\u001b[0m\u001b[0msize\u001b[0m\u001b[1;33m)\u001b[0m\u001b[1;33m.\u001b[0m\u001b[0mastype\u001b[0m\u001b[1;33m(\u001b[0m\u001b[0mint\u001b[0m\u001b[1;33m)\u001b[0m\u001b[1;31m###\u001b[0m\u001b[1;33m\u001b[0m\u001b[1;33m\u001b[0m\u001b[0m\n\u001b[0;32m     45\u001b[0m     \u001b[1;32mfor\u001b[0m \u001b[0mi\u001b[0m \u001b[1;32min\u001b[0m \u001b[0mrange\u001b[0m\u001b[1;33m(\u001b[0m\u001b[0msize\u001b[0m\u001b[1;33m)\u001b[0m\u001b[1;33m:\u001b[0m\u001b[1;33m\u001b[0m\u001b[1;33m\u001b[0m\u001b[0m\n\u001b[1;32m---> 46\u001b[1;33m             \u001b[0mTinhThichNghi\u001b[0m\u001b[1;33m[\u001b[0m\u001b[0mi\u001b[0m\u001b[1;33m]\u001b[0m \u001b[1;33m=\u001b[0m \u001b[0mFitness\u001b[0m\u001b[1;33m(\u001b[0m\u001b[0mPop\u001b[0m\u001b[1;33m[\u001b[0m\u001b[0mi\u001b[0m\u001b[1;33m]\u001b[0m\u001b[1;33m)\u001b[0m\u001b[1;33m\u001b[0m\u001b[1;33m\u001b[0m\u001b[0m\n\u001b[0m\u001b[0;32m     47\u001b[0m     \u001b[1;32mreturn\u001b[0m \u001b[0mTinhThichNghi\u001b[0m\u001b[1;33m\u001b[0m\u001b[1;33m\u001b[0m\u001b[0m\n\u001b[0;32m     48\u001b[0m \u001b[1;32mdef\u001b[0m \u001b[0mCrossover\u001b[0m\u001b[1;33m(\u001b[0m\u001b[0mparent1\u001b[0m\u001b[1;33m,\u001b[0m\u001b[0mparent2\u001b[0m\u001b[1;33m,\u001b[0m\u001b[0mids\u001b[0m\u001b[1;33m)\u001b[0m\u001b[1;33m:\u001b[0m\u001b[1;33m\u001b[0m\u001b[1;33m\u001b[0m\u001b[0m\n",
      "\u001b[1;31mIndexError\u001b[0m: list index out of range"
     ]
    }
   ],
   "source": [
    "\n",
    "Parent=Pop\n",
    "for epoch in range(28):\n",
    "        id_bome=selectparent(Parent,sizeCaTheTot,SizePop,Numparent)\n",
    "        ids=np.random.randint(0,9,4)\n",
    "        offspring=[]     \n",
    "        for i in range(Numparent):\n",
    "    ## lai  \n",
    "                ##tao ra cap bo me ngau nhien\n",
    "                \n",
    "              \n",
    "                f1,f2=Crossover(Parent[id_bome[i][0]],Parent[id_bome[i][1]],ids)\n",
    "                \n",
    "    ## dot bien\n",
    "                offspring.append(Mutation(f1))\n",
    "                offspring.append(Mutation(f2))\n",
    "            \n",
    "        Parent=offspring\n",
    "       \n",
    "        value_fit=select(Numparent*2,offspring)\n",
    "        maxx=np.argmax(value_fit)\n",
    "        print(\"Generation: \", epoch,\"   \",max(value_fit))\n",
    "       \n",
    "        \n",
    "        \n",
    "   \n",
    "               "
   ]
  },
  {
   "cell_type": "code",
   "execution_count": 17,
   "metadata": {},
   "outputs": [
    {
     "name": "stdout",
     "output_type": "stream",
     "text": [
      "2\n"
     ]
    }
   ],
   "source": [
    "lists=[1,2,2,4,5,6,7,8,9]\n",
    "\n",
    "a=lists.count(2)\n",
    "print(a)\n"
   ]
  },
  {
   "cell_type": "code",
   "execution_count": null,
   "metadata": {},
   "outputs": [],
   "source": [
    "import numpy as np\n",
    "x=np.random.randint(1,10,10)\n",
    "print(x)\n",
    "print(np.argmin(x))"
   ]
  },
  {
   "cell_type": "code",
   "execution_count": null,
   "metadata": {},
   "outputs": [],
   "source": [
    "1\n",
    "\n",
    "print(list(np.array([1,2,3])))"
   ]
  },
  {
   "cell_type": "code",
   "execution_count": null,
   "metadata": {},
   "outputs": [],
   "source": [
    "int(1000/2)"
   ]
  },
  {
   "cell_type": "code",
   "execution_count": null,
   "metadata": {},
   "outputs": [],
   "source": []
  }
 ],
 "metadata": {
  "kernelspec": {
   "display_name": "Python 3",
   "language": "python",
   "name": "python3"
  },
  "language_info": {
   "codemirror_mode": {
    "name": "ipython",
    "version": 3
   },
   "file_extension": ".py",
   "mimetype": "text/x-python",
   "name": "python",
   "nbconvert_exporter": "python",
   "pygments_lexer": "ipython3",
   "version": "3.7.3"
  }
 },
 "nbformat": 4,
 "nbformat_minor": 2
}
